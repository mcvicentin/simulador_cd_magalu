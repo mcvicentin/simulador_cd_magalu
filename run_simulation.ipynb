{
 "cells": [
  {
   "cell_type": "markdown",
   "id": "63e5e75e-7d4e-4826-965d-4fb791e52309",
   "metadata": {},
   "source": [
    "# Simulador Interativo de Localização de CD\n",
    "\n",
    "Este notebook permite comparar os custos de abrir um novo Centro de Distribuição (CD) \n",
    "em **Recife (PE)** ou em **Salvador (BA)**.\n",
    "\n",
    "Ele usa um conjunto de dados pronto (`cidades_ne150k.csv`), contendo:\n",
    "- População das cidades do Nordeste > 150 mil habitantes\n",
    "- Distâncias rodoviárias até Recife e Salvador (km)\n",
    "\n",
    "Você pode ajustar os parâmetros:\n",
    "- **n_entregas**: número de entregas por mês\n",
    "- **custo_km**: custo médio por km por entrega (R$/km)\n",
    "\n",
    "O resultado mostra:\n",
    "- Custos totais em Recife e Salvador\n",
    "- Diferença mensal e economia percentual\n",
    "- Gráfico de barras comparando os custos\n",
    "- Gráfico economia acumulada (até 24 meses)\n"
   ]
  },
  {
   "cell_type": "code",
   "execution_count": 2,
   "id": "65e7ba10-1985-4537-b1bb-0b9be1ef0e2a",
   "metadata": {},
   "outputs": [],
   "source": [
    "import pandas as pd\n",
    "import numpy as np\n",
    "import matplotlib.pyplot as plt\n",
    "import ipywidgets as widgets\n",
    "from ipywidgets import interact\n",
    "\n",
    "# Carregar dados já processados\n",
    "df = pd.read_csv(\"cidades_ne150k.csv\")\n",
    "total_pop = df[\"populacao\"].sum()\n",
    "\n",
    "# Parâmetros fixos\n",
    "cd_area_m2 = 10_000\n",
    "preco_m2_recife   = 20.5\n",
    "preco_m2_salvador = 29.5\n",
    "custo_fix_recife   = cd_area_m2 * preco_m2_recife\n",
    "custo_fix_salvador = cd_area_m2 * preco_m2_salvador\n",
    "km_intra_urbano = 15\n"
   ]
  },
  {
   "cell_type": "code",
   "execution_count": 3,
   "id": "c36e5b85-2512-4091-a059-167effd84398",
   "metadata": {},
   "outputs": [],
   "source": [
    "def simular_para_origem(df_cidades, origem_nome, coluna_dist_km, custo_fixo_origem,\n",
    "                        n_entregas, custo_km, km_intra_urbano):\n",
    "    df_sim = df_cidades.copy()\n",
    "    df_sim[\"entregas\"] = n_entregas * (df_sim[\"populacao\"] / total_pop)\n",
    "    df_sim[\"dist_ajustada_km\"] = np.where(\n",
    "        df_sim[\"municipio\"].str.lower() == origem_nome.lower(),\n",
    "        km_intra_urbano,\n",
    "        df_sim[coluna_dist_km]\n",
    "    )\n",
    "    df_sim[\"custo_logistico\"] = df_sim[\"entregas\"] * df_sim[\"dist_ajustada_km\"] * custo_km\n",
    "    custo_log_total = df_sim[\"custo_logistico\"].sum()\n",
    "    custo_total = custo_log_total + custo_fixo_origem\n",
    "    return {\"origem\": origem_nome, \"custo_total\": custo_total}\n"
   ]
  },
  {
   "cell_type": "code",
   "execution_count": 4,
   "id": "a4d9e139-b2df-4f7f-a744-6e6596c89e77",
   "metadata": {},
   "outputs": [
    {
     "data": {
      "application/vnd.jupyter.widget-view+json": {
       "model_id": "16a4c160ce1d4bf4ae079ab3886cb4db",
       "version_major": 2,
       "version_minor": 0
      },
      "text/plain": [
       "interactive(children=(IntSlider(value=100000, description='Entregas/mês', max=200000, min=10000, step=10000), …"
      ]
     },
     "metadata": {},
     "output_type": "display_data"
    }
   ],
   "source": [
    "def simulador_interativo(n_entregas, custo_km):\n",
    "    res_rec = simular_para_origem(df, \"Recife\", \"dist_recife_km\", custo_fix_recife,\n",
    "                                  n_entregas, custo_km, km_intra_urbano)\n",
    "    res_sal = simular_para_origem(df, \"Salvador\", \"dist_salvador_km\", custo_fix_salvador,\n",
    "                                  n_entregas, custo_km, km_intra_urbano)\n",
    "\n",
    "    custo_recife = res_rec[\"custo_total\"]\n",
    "    custo_salvador = res_sal[\"custo_total\"]\n",
    "    diff_mensal = custo_salvador - custo_recife\n",
    "    economia_pct = (diff_mensal / custo_salvador) * 100\n",
    "\n",
    "    print(f\"Custo Recife:   R$ {custo_recife:,.0f}\")\n",
    "    print(f\"Custo Salvador: R$ {custo_salvador:,.0f}\")\n",
    "    print(f\"\\nDiferença mensal (Salvador - Recife): R$ {diff_mensal:,.0f}\")\n",
    "    print(f\"Economia percentual ao escolher Recife: {economia_pct:.2f}%\")\n",
    "\n",
    "    # Gráfico comparativo e payback\n",
    "    fig, ax = plt.subplots(1, 2, figsize=(12,4))\n",
    "\n",
    "    # Barras\n",
    "    ax[0].bar([\"Recife\",\"Salvador\"], [custo_recife, custo_salvador], color=[\"blue\",\"orange\"])\n",
    "    ax[0].set_title(\"Custo total mensal\")\n",
    "    for i, v in enumerate([custo_recife, custo_salvador]):\n",
    "        ax[0].text(i, v + v*0.01, f\"R$ {v:,.0f}\", ha=\"center\", fontsize=9)\n",
    "\n",
    "    # Payback acumulado\n",
    "    meses = list(range(1, 25))\n",
    "    economia_acumulada = [diff_mensal * m for m in meses]\n",
    "    ax[1].plot(meses, economia_acumulada, marker=\"o\", color=\"green\")\n",
    "    ax[1].axhline(0, color=\"black\", linestyle=\"--\")\n",
    "    ax[1].set_title(\"Economia acumulada (24 meses)\")\n",
    "    ax[1].set_xlabel(\"Meses\")\n",
    "\n",
    "    plt.tight_layout()\n",
    "    plt.show()\n",
    "\n",
    "interact(\n",
    "    simulador_interativo,\n",
    "    n_entregas=widgets.IntSlider(min=10000, max=200000, step=10000, value=100000, description=\"Entregas/mês\"),\n",
    "    custo_km=widgets.FloatSlider(min=0.2, max=2.0, step=0.1, value=0.5, description=\"Custo R$/km\")\n",
    ");\n"
   ]
  },
  {
   "cell_type": "code",
   "execution_count": null,
   "id": "65746121-a29f-43cb-9b15-a47f10a82751",
   "metadata": {},
   "outputs": [],
   "source": []
  }
 ],
 "metadata": {
  "kernelspec": {
   "display_name": "Python 3 (ipykernel)",
   "language": "python",
   "name": "python3"
  },
  "language_info": {
   "codemirror_mode": {
    "name": "ipython",
    "version": 3
   },
   "file_extension": ".py",
   "mimetype": "text/x-python",
   "name": "python",
   "nbconvert_exporter": "python",
   "pygments_lexer": "ipython3",
   "version": "3.9.16"
  }
 },
 "nbformat": 4,
 "nbformat_minor": 5
}
